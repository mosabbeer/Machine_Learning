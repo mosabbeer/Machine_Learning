{
  "nbformat": 4,
  "nbformat_minor": 0,
  "metadata": {
    "colab": {
      "provenance": [],
      "authorship_tag": "ABX9TyPIsskIffOwl2lQsbqbBJvS",
      "include_colab_link": true
    },
    "kernelspec": {
      "name": "python3",
      "display_name": "Python 3"
    },
    "language_info": {
      "name": "python"
    }
  },
  "cells": [
    {
      "cell_type": "markdown",
      "metadata": {
        "id": "view-in-github",
        "colab_type": "text"
      },
      "source": [
        "<a href=\"https://colab.research.google.com/github/mosabbeer/Machine_Learning/blob/main/Numpy.ipynb\" target=\"_parent\"><img src=\"https://colab.research.google.com/assets/colab-badge.svg\" alt=\"Open In Colab\"/></a>"
      ]
    },
    {
      "cell_type": "code",
      "execution_count": null,
      "metadata": {
        "colab": {
          "base_uri": "https://localhost:8080/"
        },
        "id": "-ssm0OuODc68",
        "outputId": "66a85dfa-a89b-45fd-d70e-05a8690758e8"
      },
      "outputs": [
        {
          "output_type": "stream",
          "name": "stdout",
          "text": [
            "37.625\n",
            "[33.5 22.  44.5 50.5]\n",
            "[0. 0. 0. 0.]\n",
            "[[0. 0. 0. 0. 0.]\n",
            " [0. 0. 0. 0. 0.]\n",
            " [0. 0. 0. 0. 0.]\n",
            " [0. 0. 0. 0. 0.]]\n",
            "[[1. 1. 1.]\n",
            " [1. 1. 1.]]\n",
            "[[6 6]\n",
            " [6 6]]\n",
            "[3 3 3]\n",
            "[1 2 3 4 5 6 7 8 9]\n",
            "[[1. 0. 0.]\n",
            " [0. 1. 0.]\n",
            " [0. 0. 1.]]\n"
          ]
        }
      ],
      "source": [
        "#starting chapter 1\n",
        "import numpy as np\n",
        "temprature = np.array([33.5,22,44.5,50.5])\n",
        "average = np.mean(temprature) #average\n",
        "print(average)\n",
        "print(temprature)\n",
        "print(np.zeros(4)) #all the value zero 1d\n",
        "print(np.zeros((4,5))) #all the value zero 2d\n",
        "print(np.ones((2,3))) #value of one\n",
        "print(np.full((2,2),6)) #2d array of 6\n",
        "print(np.full(3,3)) #meke one d array using it\n",
        "print(np.arange(1,10,1)) #as like as forloop, start,end-1,increment/decrement\n",
        "print(np.eye(3))#identity matrix\n"
      ]
    },
    {
      "cell_type": "code",
      "source": [
        "#chapter_2\n",
        "array = np.array([[1,2,3],[5,6,7],[8,9,10],[9,11,3]])\n",
        "print(array.shape) #(row,column)\n",
        "print(array.size) #number of element\n",
        "print(array.ndim) #number of dimantion\n",
        "print(array.dtype)#type of element checking\n",
        "arr=np.array([10.2,20.5,30.99])\n",
        "int_arr=arr.astype(int) #changing datatype\n",
        "print(int_arr)\n",
        "#arithmetic operator worked with all the values without loop\n",
        "print(int_arr+10)\n",
        "print(int_arr-10)\n",
        "print(int_arr*10)\n",
        "print(int_arr/10)\n",
        "print(int_arr/10)\n",
        "arr_agri=np.array([10,20,30,40,50])\n",
        "print(np.mean(arr_agri)) #average\n",
        "print(np.sum(arr_agri))#sumation\n",
        "print(np.min(arr_agri))#min\n",
        "print(np.max(arr_agri))#max\n",
        "print(np.std(arr_agri))#standard daviation\n",
        "print(np.var(arr_agri)) #varaition\n"
      ],
      "metadata": {
        "colab": {
          "base_uri": "https://localhost:8080/"
        },
        "id": "k-SRqy7NJbkJ",
        "outputId": "c5e8a66b-4ecd-4d28-8dec-4ce0afe8cb15"
      },
      "execution_count": null,
      "outputs": [
        {
          "output_type": "stream",
          "name": "stdout",
          "text": [
            "(4, 3)\n",
            "12\n",
            "2\n",
            "int64\n",
            "[10 20 30]\n",
            "[20 30 40]\n",
            "[ 0 10 20]\n",
            "[100 200 300]\n",
            "[1. 2. 3.]\n",
            "[1. 2. 3.]\n",
            "30.0\n",
            "150\n",
            "10\n",
            "50\n",
            "14.142135623730951\n",
            "200.0\n"
          ]
        }
      ]
    },
    {
      "cell_type": "code",
      "source": [
        "#chapter_3 indexing and slicing\n",
        "#indexing means choose an element\n",
        "#slicing means choosing a part of the array\n",
        "\"\"\"\n",
        "array[index]= 1D\n",
        "array[row,column]=2D\n",
        "\"\"\"\n",
        "int_arr=np.array([10,20,30,40,50,60,70,80])\n",
        "print(int_arr)\n",
        "print(int_arr[3]) #indexing\n",
        "#slicing->starting,stop-1,step\n",
        "print(int_arr[0:3])\n",
        "print(int_arr[0:3:2])\n",
        "print(int_arr[::-1]) #in reverse order\n",
        "#fency indexing =selecting multiple elment at once\n",
        "print(int_arr[[1,3,2]]) #selecting 2nd 4th 3rd element\n",
        "#bolian masking = based on condition\n",
        "print(int_arr[int_arr>25])\n",
        "#reshaping array 1D=2D,1D=3D without changing values arr.reshape(row,column)\n",
        "print(int_arr.reshape(2,4))\n",
        "\"\"\"\n",
        "multidimentional to 1D\n",
        "revel--> change the main array\n",
        "flatten()--> create a copy\n",
        "\"\"\"\n",
        "arr_2d=np.array([[1,2,3],[3,4,5],[3,5,6]])\n",
        "print(arr_2d.flatten())\n",
        "print(arr_2d.ravel())\n",
        "\n",
        "\n"
      ],
      "metadata": {
        "colab": {
          "base_uri": "https://localhost:8080/"
        },
        "id": "RYjC3Oj8PuBT",
        "outputId": "86e411bf-5bc9-4a88-8148-00802d4dbbfd"
      },
      "execution_count": null,
      "outputs": [
        {
          "output_type": "stream",
          "name": "stdout",
          "text": [
            "[10 20 30 40 50 60 70 80]\n",
            "40\n",
            "[10 20 30]\n",
            "[10 30]\n",
            "[80 70 60 50 40 30 20 10]\n",
            "[20 40 30]\n",
            "[30 40 50 60 70 80]\n",
            "[[10 20 30 40]\n",
            " [50 60 70 80]]\n",
            "[1 2 3 3 4 5 3 5 6]\n",
            "[1 2 3 3 4 5 3 5 6]\n"
          ]
        }
      ]
    },
    {
      "cell_type": "code",
      "source": [
        "\"\"\"\n",
        "np.insert(array,index,value,asix=None)\n",
        "inserting\n",
        "\"\"\"\n",
        "array=np.array([10,20,30,40])\n",
        "new_array=np.insert(array,2,100,0)\n",
        "new_array\n",
        "arr_2d=np.array([[1,2,3],[2,3,5]])\n",
        "new_2d=np.insert(arr_2d,1,[5,6],axis=1) #5,6 means raw value, axis=0, 0th exis,axis=1(column wise),1 means 2nd row\n",
        "print(new_2d)\n",
        "#append -->at the end\n",
        "\"\"\"\n",
        "same as insert\n",
        "\"\"\"\n",
        "arr=np.array([1,2,3])\n",
        "new_arr=np.append(arr,[4,5,6])\n",
        "print(new_arr)\n",
        "np.concatenate([arr,new_arr],axis=0) #axis=1 column wise\n",
        "print(arr)\n",
        "np.delete(new_arr,0,axis=None)\n",
        "new_2d=np.delete(arr_2d,0,axis=0)\n",
        "print(new_2d)\n",
        "\"\"\"\n",
        "vstake() row wise\n",
        "hstake() column wise\n",
        "\"\"\"\n",
        "new_arr=np.array([1,6,3])\n",
        "np.hstack((arr,new_arr))\n",
        "np.vstack((arr,new_arr))\n",
        "np.split(new_arr,3)\n"
      ],
      "metadata": {
        "colab": {
          "base_uri": "https://localhost:8080/"
        },
        "id": "PC-h9S_Ce2fL",
        "outputId": "4d6cb5dd-e52d-4b5d-d703-44eed2053543"
      },
      "execution_count": null,
      "outputs": [
        {
          "output_type": "stream",
          "name": "stdout",
          "text": [
            "[[1 5 2 3]\n",
            " [2 6 3 5]]\n",
            "[1 2 3 4 5 6]\n",
            "[1 2 3]\n",
            "[[2 3 5]]\n"
          ]
        },
        {
          "output_type": "execute_result",
          "data": {
            "text/plain": [
              "[array([1]), array([6]), array([3])]"
            ]
          },
          "metadata": {},
          "execution_count": 89
        }
      ]
    },
    {
      "cell_type": "code",
      "source": [
        "# brodcasting--> without using array doing some mathmetical task\n",
        "prices=[100,200,300]\n",
        "prices=np.array(prices)\n",
        "discount=10\n",
        "final_prices=prices-(prices*discount/100)\n",
        "print(final_prices)"
      ],
      "metadata": {
        "colab": {
          "base_uri": "https://localhost:8080/"
        },
        "id": "PjG5CGwrk5R8",
        "outputId": "ad322c93-937c-4463-efc0-16c0234a8f30"
      },
      "execution_count": null,
      "outputs": [
        {
          "output_type": "stream",
          "name": "stdout",
          "text": [
            "[ 90. 180. 270.]\n"
          ]
        }
      ]
    },
    {
      "cell_type": "code",
      "source": [
        "#hendling missing value\n",
        "\"\"\"\n",
        "np.isnan->ditect mmissing value\n",
        "np.NAN_to_num()->replacing with any value\n",
        "np.isinf()->detect infinite number\n",
        "\"\"\"\n",
        "arr=np.array([1,2,np.nan,3,np.nan,6])\n",
        "print(np.isnan(arr)) #true = nan,\n",
        "new_arr=np.nan_to_num(arr,nan=9)\n",
        "print(new_arr)"
      ],
      "metadata": {
        "colab": {
          "base_uri": "https://localhost:8080/"
        },
        "id": "48juCbhpnsHx",
        "outputId": "b19b2f7d-34fe-4ce1-ae86-de78815540e3"
      },
      "execution_count": null,
      "outputs": [
        {
          "output_type": "stream",
          "name": "stdout",
          "text": [
            "[False False  True False  True False]\n",
            "[1. 2. 9. 3. 9. 6.]\n"
          ]
        }
      ]
    }
  ]
}